{
  "nbformat": 4,
  "nbformat_minor": 0,
  "metadata": {
    "colab": {
      "name": "AprendizajeAutomático.ipynb",
      "provenance": [],
      "collapsed_sections": [],
      "authorship_tag": "ABX9TyOyl96JsUGZ+tsW8EmCJolV",
      "include_colab_link": true
    },
    "kernelspec": {
      "name": "python3",
      "display_name": "Python 3"
    }
  },
  "cells": [
    {
      "cell_type": "markdown",
      "metadata": {
        "id": "view-in-github",
        "colab_type": "text"
      },
      "source": [
        "<a href=\"https://colab.research.google.com/github/MarlonAB/AprendizajeAutomatico/blob/master/AprendizajeAutom%C3%A1tico.ipynb\" target=\"_parent\"><img src=\"https://colab.research.google.com/assets/colab-badge.svg\" alt=\"Open In Colab\"/></a>"
      ]
    },
    {
      "cell_type": "code",
      "metadata": {
        "id": "S9dd66dbEtFA",
        "colab_type": "code",
        "colab": {}
      },
      "source": [
        "import pandas as pd\n",
        "import matplotlib.pyplot as plt\n"
      ],
      "execution_count": 0,
      "outputs": []
    },
    {
      "cell_type": "code",
      "metadata": {
        "id": "9Vi40M2tHaS5",
        "colab_type": "code",
        "colab": {}
      },
      "source": [
        "data = pd.read_csv('/content/car.csv', header=None)"
      ],
      "execution_count": 0,
      "outputs": []
    },
    {
      "cell_type": "code",
      "metadata": {
        "id": "LCMD3aNAHpts",
        "colab_type": "code",
        "colab": {}
      },
      "source": [
        "data.columns = ['price', 'maintenance','n_doors','capacity','size_lug','safety', 'class']"
      ],
      "execution_count": 0,
      "outputs": []
    },
    {
      "cell_type": "code",
      "metadata": {
        "id": "uwKtVv32IKPT",
        "colab_type": "code",
        "colab": {
          "base_uri": "https://localhost:8080/",
          "height": 204
        },
        "outputId": "a6bf1fef-2f06-49fa-9ad0-77157069236c"
      },
      "source": [
        "data.sample(5)"
      ],
      "execution_count": 28,
      "outputs": [
        {
          "output_type": "execute_result",
          "data": {
            "text/html": [
              "<div>\n",
              "<style scoped>\n",
              "    .dataframe tbody tr th:only-of-type {\n",
              "        vertical-align: middle;\n",
              "    }\n",
              "\n",
              "    .dataframe tbody tr th {\n",
              "        vertical-align: top;\n",
              "    }\n",
              "\n",
              "    .dataframe thead th {\n",
              "        text-align: right;\n",
              "    }\n",
              "</style>\n",
              "<table border=\"1\" class=\"dataframe\">\n",
              "  <thead>\n",
              "    <tr style=\"text-align: right;\">\n",
              "      <th></th>\n",
              "      <th>price</th>\n",
              "      <th>maintenance</th>\n",
              "      <th>n_doors</th>\n",
              "      <th>capacity</th>\n",
              "      <th>size_lug</th>\n",
              "      <th>safety</th>\n",
              "      <th>class</th>\n",
              "    </tr>\n",
              "  </thead>\n",
              "  <tbody>\n",
              "    <tr>\n",
              "      <th>1143</th>\n",
              "      <td>med</td>\n",
              "      <td>med</td>\n",
              "      <td>4</td>\n",
              "      <td>4</td>\n",
              "      <td>small</td>\n",
              "      <td>low</td>\n",
              "      <td>unacc</td>\n",
              "    </tr>\n",
              "    <tr>\n",
              "      <th>1487</th>\n",
              "      <td>low</td>\n",
              "      <td>high</td>\n",
              "      <td>5more</td>\n",
              "      <td>2</td>\n",
              "      <td>small</td>\n",
              "      <td>high</td>\n",
              "      <td>unacc</td>\n",
              "    </tr>\n",
              "    <tr>\n",
              "      <th>1354</th>\n",
              "      <td>low</td>\n",
              "      <td>vhigh</td>\n",
              "      <td>4</td>\n",
              "      <td>2</td>\n",
              "      <td>med</td>\n",
              "      <td>med</td>\n",
              "      <td>unacc</td>\n",
              "    </tr>\n",
              "    <tr>\n",
              "      <th>1528</th>\n",
              "      <td>low</td>\n",
              "      <td>med</td>\n",
              "      <td>2</td>\n",
              "      <td>4</td>\n",
              "      <td>big</td>\n",
              "      <td>med</td>\n",
              "      <td>good</td>\n",
              "    </tr>\n",
              "    <tr>\n",
              "      <th>243</th>\n",
              "      <td>vhigh</td>\n",
              "      <td>med</td>\n",
              "      <td>3</td>\n",
              "      <td>2</td>\n",
              "      <td>small</td>\n",
              "      <td>low</td>\n",
              "      <td>unacc</td>\n",
              "    </tr>\n",
              "  </tbody>\n",
              "</table>\n",
              "</div>"
            ],
            "text/plain": [
              "      price maintenance n_doors capacity size_lug safety  class\n",
              "1143    med         med       4        4    small    low  unacc\n",
              "1487    low        high   5more        2    small   high  unacc\n",
              "1354    low       vhigh       4        2      med    med  unacc\n",
              "1528    low         med       2        4      big    med   good\n",
              "243   vhigh         med       3        2    small    low  unacc"
            ]
          },
          "metadata": {
            "tags": []
          },
          "execution_count": 28
        }
      ]
    },
    {
      "cell_type": "code",
      "metadata": {
        "id": "UbQTCWOgIove",
        "colab_type": "code",
        "colab": {}
      },
      "source": [
        "data.price.replace(('vhigh', 'high', 'med', 'low'), (4,3,2,1), inplace=True)\n",
        "data.maintenance.replace(('vhigh','high','med','low'), (4,3,2,1), inplace=True)\n",
        "data.n_doors.replace(('2','3','4','5more'), (1,2,3,4), inplace=True)\n",
        "data.capacity.replace(('2', '4', 'more'), (1,2,3), inplace=True)\n",
        "data.size_lug.replace(('small','med','big'), (1,2,3), inplace=True)\n",
        "data.safety.replace(('low', 'med', 'high'), (1,2,3), inplace=True)"
      ],
      "execution_count": 0,
      "outputs": []
    },
    {
      "cell_type": "code",
      "metadata": {
        "id": "rRXu7J8vY_VF",
        "colab_type": "code",
        "colab": {}
      },
      "source": [
        "data['class'].replace(('unacc','acc','good','vgood'), (1,2,3,4), inplace = True)"
      ],
      "execution_count": 0,
      "outputs": []
    },
    {
      "cell_type": "code",
      "metadata": {
        "id": "hR39ULDjZZVz",
        "colab_type": "code",
        "colab": {
          "base_uri": "https://localhost:8080/",
          "height": 204
        },
        "outputId": "cf3f4531-ea97-4591-8373-24866867479a"
      },
      "source": [
        "data.head(5)"
      ],
      "execution_count": 31,
      "outputs": [
        {
          "output_type": "execute_result",
          "data": {
            "text/html": [
              "<div>\n",
              "<style scoped>\n",
              "    .dataframe tbody tr th:only-of-type {\n",
              "        vertical-align: middle;\n",
              "    }\n",
              "\n",
              "    .dataframe tbody tr th {\n",
              "        vertical-align: top;\n",
              "    }\n",
              "\n",
              "    .dataframe thead th {\n",
              "        text-align: right;\n",
              "    }\n",
              "</style>\n",
              "<table border=\"1\" class=\"dataframe\">\n",
              "  <thead>\n",
              "    <tr style=\"text-align: right;\">\n",
              "      <th></th>\n",
              "      <th>price</th>\n",
              "      <th>maintenance</th>\n",
              "      <th>n_doors</th>\n",
              "      <th>capacity</th>\n",
              "      <th>size_lug</th>\n",
              "      <th>safety</th>\n",
              "      <th>class</th>\n",
              "    </tr>\n",
              "  </thead>\n",
              "  <tbody>\n",
              "    <tr>\n",
              "      <th>0</th>\n",
              "      <td>4</td>\n",
              "      <td>4</td>\n",
              "      <td>1</td>\n",
              "      <td>1</td>\n",
              "      <td>1</td>\n",
              "      <td>1</td>\n",
              "      <td>1</td>\n",
              "    </tr>\n",
              "    <tr>\n",
              "      <th>1</th>\n",
              "      <td>4</td>\n",
              "      <td>4</td>\n",
              "      <td>1</td>\n",
              "      <td>1</td>\n",
              "      <td>1</td>\n",
              "      <td>2</td>\n",
              "      <td>1</td>\n",
              "    </tr>\n",
              "    <tr>\n",
              "      <th>2</th>\n",
              "      <td>4</td>\n",
              "      <td>4</td>\n",
              "      <td>1</td>\n",
              "      <td>1</td>\n",
              "      <td>1</td>\n",
              "      <td>3</td>\n",
              "      <td>1</td>\n",
              "    </tr>\n",
              "    <tr>\n",
              "      <th>3</th>\n",
              "      <td>4</td>\n",
              "      <td>4</td>\n",
              "      <td>1</td>\n",
              "      <td>1</td>\n",
              "      <td>2</td>\n",
              "      <td>1</td>\n",
              "      <td>1</td>\n",
              "    </tr>\n",
              "    <tr>\n",
              "      <th>4</th>\n",
              "      <td>4</td>\n",
              "      <td>4</td>\n",
              "      <td>1</td>\n",
              "      <td>1</td>\n",
              "      <td>2</td>\n",
              "      <td>2</td>\n",
              "      <td>1</td>\n",
              "    </tr>\n",
              "  </tbody>\n",
              "</table>\n",
              "</div>"
            ],
            "text/plain": [
              "   price  maintenance  n_doors  capacity  size_lug  safety  class\n",
              "0      4            4        1         1         1       1      1\n",
              "1      4            4        1         1         1       2      1\n",
              "2      4            4        1         1         1       3      1\n",
              "3      4            4        1         1         2       1      1\n",
              "4      4            4        1         1         2       2      1"
            ]
          },
          "metadata": {
            "tags": []
          },
          "execution_count": 31
        }
      ]
    },
    {
      "cell_type": "markdown",
      "metadata": {
        "id": "n0-Ac3udZoKl",
        "colab_type": "text"
      },
      "source": [
        "Recomendación de división de datos\n",
        "\n",
        "\n",
        "*   80% aprendizaje\n",
        "*   20% pruebas\n",
        "\n"
      ]
    },
    {
      "cell_type": "code",
      "metadata": {
        "id": "GxJYbjtXa1I4",
        "colab_type": "code",
        "colab": {}
      },
      "source": [
        "dataset = data.values\n",
        "X = dataset[:, 0:6]\n",
        "Y = np.asarray(dataset[:, 6], dtype = 'S6')"
      ],
      "execution_count": 0,
      "outputs": []
    },
    {
      "cell_type": "code",
      "metadata": {
        "id": "AcWgIWV8bgNQ",
        "colab_type": "code",
        "colab": {}
      },
      "source": [
        "from sklearn import tree\n",
        "from sklearn.model_selection import train_test_split, cross_val_score\n",
        "from sklearn import metrics"
      ],
      "execution_count": 0,
      "outputs": []
    },
    {
      "cell_type": "code",
      "metadata": {
        "id": "L8AI8OKrb-eh",
        "colab_type": "code",
        "colab": {}
      },
      "source": [
        "X_Train, X_Test, Y_Train, Y_Test = train_test_split(X, Y, test_size = 0.2, random_state = 0)"
      ],
      "execution_count": 0,
      "outputs": []
    },
    {
      "cell_type": "code",
      "metadata": {
        "id": "x9lllw85cflz",
        "colab_type": "code",
        "colab": {}
      },
      "source": [
        "tr = tree.DecisionTreeClassifier(max_depth = 10)"
      ],
      "execution_count": 0,
      "outputs": []
    },
    {
      "cell_type": "code",
      "metadata": {
        "id": "fcYS4TnFcysE",
        "colab_type": "code",
        "colab": {
          "base_uri": "https://localhost:8080/",
          "height": 119
        },
        "outputId": "3913cbfe-3861-4f3e-d60d-1efa49d87fef"
      },
      "source": [
        "tr.fit(X_Train, Y_Train)"
      ],
      "execution_count": 59,
      "outputs": [
        {
          "output_type": "execute_result",
          "data": {
            "text/plain": [
              "DecisionTreeClassifier(ccp_alpha=0.0, class_weight=None, criterion='gini',\n",
              "                       max_depth=10, max_features=None, max_leaf_nodes=None,\n",
              "                       min_impurity_decrease=0.0, min_impurity_split=None,\n",
              "                       min_samples_leaf=1, min_samples_split=2,\n",
              "                       min_weight_fraction_leaf=0.0, presort='deprecated',\n",
              "                       random_state=None, splitter='best')"
            ]
          },
          "metadata": {
            "tags": []
          },
          "execution_count": 59
        }
      ]
    },
    {
      "cell_type": "code",
      "metadata": {
        "id": "WlQkdftrfFt9",
        "colab_type": "code",
        "colab": {}
      },
      "source": [
        "y_pred = tr.predict(X_Test) "
      ],
      "execution_count": 0,
      "outputs": []
    },
    {
      "cell_type": "code",
      "metadata": {
        "id": "55Cr3i9wfPbR",
        "colab_type": "code",
        "colab": {
          "base_uri": "https://localhost:8080/",
          "height": 561
        },
        "outputId": "3a7c0085-bd48-43f0-bcde-57a1a6e5a9ca"
      },
      "source": [
        "y_pred"
      ],
      "execution_count": 61,
      "outputs": [
        {
          "output_type": "execute_result",
          "data": {
            "text/plain": [
              "array([b'2', b'1', b'1', b'1', b'1', b'3', b'1', b'2', b'3', b'1', b'1',\n",
              "       b'1', b'2', b'1', b'1', b'2', b'1', b'1', b'2', b'1', b'3', b'2',\n",
              "       b'3', b'1', b'1', b'1', b'1', b'1', b'1', b'1', b'3', b'2', b'1',\n",
              "       b'2', b'3', b'1', b'1', b'1', b'1', b'1', b'1', b'1', b'1', b'1',\n",
              "       b'4', b'1', b'1', b'2', b'1', b'1', b'1', b'1', b'1', b'1', b'1',\n",
              "       b'1', b'1', b'1', b'1', b'1', b'2', b'1', b'1', b'1', b'1', b'2',\n",
              "       b'1', b'1', b'1', b'1', b'1', b'2', b'1', b'2', b'3', b'2', b'1',\n",
              "       b'2', b'2', b'1', b'2', b'2', b'1', b'1', b'1', b'1', b'1', b'3',\n",
              "       b'1', b'1', b'1', b'2', b'1', b'1', b'1', b'4', b'1', b'2', b'2',\n",
              "       b'1', b'1', b'1', b'2', b'1', b'4', b'2', b'1', b'2', b'1', b'1',\n",
              "       b'1', b'1', b'1', b'2', b'1', b'3', b'1', b'1', b'1', b'1', b'1',\n",
              "       b'1', b'2', b'1', b'1', b'1', b'1', b'2', b'3', b'1', b'1', b'1',\n",
              "       b'2', b'1', b'1', b'1', b'1', b'1', b'1', b'1', b'1', b'1', b'1',\n",
              "       b'2', b'1', b'1', b'2', b'1', b'2', b'2', b'2', b'2', b'1', b'1',\n",
              "       b'1', b'2', b'1', b'1', b'1', b'1', b'2', b'1', b'1', b'1', b'2',\n",
              "       b'1', b'1', b'1', b'1', b'1', b'1', b'1', b'1', b'1', b'2', b'1',\n",
              "       b'1', b'1', b'1', b'1', b'2', b'2', b'2', b'1', b'2', b'1', b'3',\n",
              "       b'1', b'1', b'1', b'1', b'2', b'1', b'1', b'1', b'2', b'1', b'3',\n",
              "       b'1', b'1', b'1', b'1', b'2', b'1', b'1', b'1', b'1', b'1', b'1',\n",
              "       b'1', b'1', b'2', b'1', b'1', b'1', b'1', b'1', b'2', b'1', b'1',\n",
              "       b'1', b'2', b'1', b'4', b'1', b'1', b'1', b'4', b'1', b'1', b'1',\n",
              "       b'1', b'2', b'1', b'1', b'1', b'1', b'1', b'1', b'1', b'1', b'1',\n",
              "       b'1', b'1', b'3', b'1', b'2', b'1', b'1', b'1', b'1', b'1', b'3',\n",
              "       b'2', b'3', b'2', b'2', b'1', b'1', b'1', b'2', b'1', b'1', b'2',\n",
              "       b'1', b'1', b'4', b'1', b'2', b'1', b'1', b'1', b'2', b'1', b'2',\n",
              "       b'1', b'1', b'1', b'1', b'1', b'1', b'1', b'2', b'1', b'1', b'2',\n",
              "       b'1', b'4', b'3', b'1', b'1', b'1', b'1', b'1', b'1', b'1', b'1',\n",
              "       b'1', b'1', b'2', b'1', b'2', b'2', b'3', b'3', b'1', b'2', b'1',\n",
              "       b'2', b'1', b'3', b'2', b'1', b'1', b'1', b'1', b'1', b'1', b'1',\n",
              "       b'2', b'1', b'1', b'2', b'1', b'2', b'1', b'1', b'1', b'1', b'1',\n",
              "       b'2', b'1', b'3', b'1', b'3', b'1', b'1', b'1', b'4', b'1', b'1',\n",
              "       b'4', b'1', b'2', b'1', b'2'], dtype='|S6')"
            ]
          },
          "metadata": {
            "tags": []
          },
          "execution_count": 61
        }
      ]
    },
    {
      "cell_type": "code",
      "metadata": {
        "id": "g2qT195Bgnby",
        "colab_type": "code",
        "colab": {}
      },
      "source": [
        "score = tr.score(X_Test, Y_Test)"
      ],
      "execution_count": 0,
      "outputs": []
    },
    {
      "cell_type": "code",
      "metadata": {
        "id": "mfThJ2h9gydh",
        "colab_type": "code",
        "colab": {
          "base_uri": "https://localhost:8080/",
          "height": 34
        },
        "outputId": "51a5ebdc-1750-42c3-de8a-1f639daf9a32"
      },
      "source": [
        "print('Precisión: %0.4f' %(score))"
      ],
      "execution_count": 65,
      "outputs": [
        {
          "output_type": "stream",
          "text": [
            "Precisión: 0.9682\n"
          ],
          "name": "stdout"
        }
      ]
    },
    {
      "cell_type": "markdown",
      "metadata": {
        "id": "jYmeuAqHhu_E",
        "colab_type": "text"
      },
      "source": [
        "El porcentaje de Precisión es el indicado **0.9682%**\n",
        "\n",
        "---\n",
        "\n"
      ]
    }
  ]
}